{
 "cells": [
  {
   "cell_type": "markdown",
   "metadata": {},
   "source": [
    "# Dados Globais de Violência Contra Mulheres"
   ]
  },
  {
   "cell_type": "markdown",
   "metadata": {},
   "source": [
    "### Introdução\n",
    "Em dezembro de 2006, a Assembleia Geral das Nações Unidas adotou uma resolução abrangente pedindo a intensificação dos esforços para eliminar todas as formas de violência contra as mulheres e solicitando ao Secretário-Geral que estabeleça um banco de dados coordenado sobre a extensão, natureza e consequências de todas as formas de violência contra as mulheres.\n",
    "\n",
    "O banco de dados foi desenvolvido e lançado em 2009 e foi chamado de \"banco de dados do Secretário-Geral da ONU sobre violência contra as mulheres\". Em 2016, de acordo com a adoção da Agenda 2030 para o Desenvolvimento Sustentável, a ONU Mulheres relançou os bancos de dados como o \"Banco de Dados Global sobre Violência contra as Mulheres\". Em 2024, o banco de dados foi novamente redesenhado e relançado para permitir que os usuários naveguem mais facilmente por seu extenso conteúdo. \n",
    "\n",
    "São 193 Estados-membros das Nações Unidas inclusos no banco de dados. Cada um destes Estados-Membros comunicou pelo menos uma medida de combate à violência contra as mulheres através de relatórios oficiais.\n",
    "\n",
    "As Nações Unidas definem a violência contra as mulheres como \"qualquer ato de violência baseada no gênero que resulte ou possa resultar em dano ou sofrimento físico, sexual ou psicológico às mulheres, incluindo ameaças de tais atos, coerção ou privação arbitrária de liberdade, ocorrendo na vida pública ou privada\" (Resolução 48/104 da Assembleia Geral Declaração sobre a Eliminação da Violência contra as Mulheres, 1993).\n",
    "\n",
    "Mais informações em https://data.unwomen.org/global-database-on-violence-against-women"
   ]
  },
  {
   "cell_type": "markdown",
   "metadata": {},
   "source": [
    "### Motivação\n",
    "Encontrar uma DB com informações a níveis globais e como mulheres achamos interessante descobrir como são tratadas estas informações."
   ]
  },
  {
   "cell_type": "markdown",
   "metadata": {},
   "source": [
    "### Instalação e Tratamento dos Dados"
   ]
  },
  {
   "cell_type": "code",
   "execution_count": 1,
   "metadata": {},
   "outputs": [],
   "source": [
    "import pandas as pd\n",
    "import matplotlib.pyplot as plt"
   ]
  },
  {
   "cell_type": "code",
   "execution_count": 2,
   "metadata": {},
   "outputs": [],
   "source": [
    "df_backup = pd.read_csv(\"Data_Map_export.csv\")"
   ]
  },
  {
   "cell_type": "code",
   "execution_count": 3,
   "metadata": {},
   "outputs": [
    {
     "data": {
      "text/plain": [
       "(7440, 13)"
      ]
     },
     "execution_count": 3,
     "metadata": {},
     "output_type": "execute_result"
    }
   ],
   "source": [
    "df_backup.shape"
   ]
  },
  {
   "cell_type": "code",
   "execution_count": 4,
   "metadata": {},
   "outputs": [],
   "source": [
    "df = df_backup.copy()"
   ]
  },
  {
   "cell_type": "code",
   "execution_count": 5,
   "metadata": {},
   "outputs": [
    {
     "data": {
      "text/plain": [
       "(7440, 13)"
      ]
     },
     "execution_count": 5,
     "metadata": {},
     "output_type": "execute_result"
    }
   ],
   "source": [
    "df.shape"
   ]
  },
  {
   "cell_type": "code",
   "execution_count": 6,
   "metadata": {},
   "outputs": [
    {
     "name": "stdout",
     "output_type": "stream",
     "text": [
      "Template               0\n",
      "Year                 716\n",
      "Region                 3\n",
      "Form of Violence       5\n",
      "Type of Measure        4\n",
      "Country                0\n",
      "Title                  0\n",
      "Unnamed: 7          7408\n",
      "Unnamed: 8          7431\n",
      "Unnamed: 9          7436\n",
      "Unnamed: 10         7436\n",
      "Unnamed: 11         7436\n",
      "Unnamed: 12         7436\n",
      "dtype: int64\n"
     ]
    }
   ],
   "source": [
    "nulos = df.isnull().sum()\n",
    "print(nulos)"
   ]
  },
  {
   "cell_type": "code",
   "execution_count": 7,
   "metadata": {},
   "outputs": [
    {
     "name": "stdout",
     "output_type": "stream",
     "text": [
      "['Measure']\n"
     ]
    }
   ],
   "source": [
    "valores_unicos = df['Template'].unique()\n",
    "print(valores_unicos)"
   ]
  },
  {
   "cell_type": "code",
   "execution_count": 8,
   "metadata": {},
   "outputs": [
    {
     "name": "stdout",
     "output_type": "stream",
     "text": [
      "[nan\n",
      " 'State Fund for the Protection of and Assistance to Victims of Trafficking in Persons'\n",
      " 'Amendment of Code of Criminal Procedure'\n",
      " 'Act No. 119/2013 on Gender-Based Violence and Stalking'\n",
      " 'Corporate Alliance against Gender Violence']\n"
     ]
    }
   ],
   "source": [
    "valores_unicos = df['Unnamed: 12'].unique()\n",
    "print(valores_unicos)"
   ]
  },
  {
   "cell_type": "code",
   "execution_count": 9,
   "metadata": {},
   "outputs": [
    {
     "data": {
      "text/plain": [
       "Index(['Template', 'Year', 'Region', 'Form of Violence', 'Type of Measure',\n",
       "       'Country', 'Title', 'Unnamed: 7', 'Unnamed: 8', 'Unnamed: 9',\n",
       "       'Unnamed: 10', 'Unnamed: 11', 'Unnamed: 12'],\n",
       "      dtype='object')"
      ]
     },
     "execution_count": 9,
     "metadata": {},
     "output_type": "execute_result"
    }
   ],
   "source": [
    "df.columns"
   ]
  },
  {
   "cell_type": "code",
   "execution_count": 10,
   "metadata": {},
   "outputs": [],
   "source": [
    "df.drop([\"Template\", \"Unnamed: 7\", \"Unnamed: 8\", \"Unnamed: 9\", \"Unnamed: 10\", \"Unnamed: 11\", \"Unnamed: 12\"], axis=1, inplace=True)"
   ]
  },
  {
   "cell_type": "code",
   "execution_count": 11,
   "metadata": {},
   "outputs": [
    {
     "data": {
      "text/plain": [
       "Index(['Year', 'Region', 'Form of Violence', 'Type of Measure', 'Country',\n",
       "       'Title'],\n",
       "      dtype='object')"
      ]
     },
     "execution_count": 11,
     "metadata": {},
     "output_type": "execute_result"
    }
   ],
   "source": [
    "df.columns"
   ]
  },
  {
   "cell_type": "code",
   "execution_count": 12,
   "metadata": {},
   "outputs": [
    {
     "name": "stdout",
     "output_type": "stream",
     "text": [
      "Year                716\n",
      "Region                3\n",
      "Form of Violence      5\n",
      "Type of Measure       4\n",
      "Country               0\n",
      "Title                 0\n",
      "dtype: int64\n"
     ]
    }
   ],
   "source": [
    "nulos = df.isnull().sum()\n",
    "print(nulos)"
   ]
  },
  {
   "cell_type": "code",
   "execution_count": 13,
   "metadata": {},
   "outputs": [
    {
     "name": "stdout",
     "output_type": "stream",
     "text": [
      "1\n"
     ]
    }
   ],
   "source": [
    "duplicados = df.duplicated().sum()\n",
    "print(duplicados)"
   ]
  },
  {
   "cell_type": "code",
   "execution_count": 14,
   "metadata": {},
   "outputs": [],
   "source": [
    "df.drop_duplicates(inplace=True)"
   ]
  },
  {
   "cell_type": "code",
   "execution_count": 15,
   "metadata": {},
   "outputs": [
    {
     "name": "stdout",
     "output_type": "stream",
     "text": [
      "<class 'pandas.core.frame.DataFrame'>\n",
      "Index: 7439 entries, 0 to 7439\n",
      "Data columns (total 6 columns):\n",
      " #   Column            Non-Null Count  Dtype  \n",
      "---  ------            --------------  -----  \n",
      " 0   Year              6723 non-null   float64\n",
      " 1   Region            7436 non-null   object \n",
      " 2   Form of Violence  7434 non-null   object \n",
      " 3   Type of Measure   7435 non-null   object \n",
      " 4   Country           7439 non-null   object \n",
      " 5   Title             7439 non-null   object \n",
      "dtypes: float64(1), object(5)\n",
      "memory usage: 406.8+ KB\n"
     ]
    }
   ],
   "source": [
    "df.info()"
   ]
  },
  {
   "cell_type": "code",
   "execution_count": 16,
   "metadata": {},
   "outputs": [
    {
     "data": {
      "text/html": [
       "<div>\n",
       "<style scoped>\n",
       "    .dataframe tbody tr th:only-of-type {\n",
       "        vertical-align: middle;\n",
       "    }\n",
       "\n",
       "    .dataframe tbody tr th {\n",
       "        vertical-align: top;\n",
       "    }\n",
       "\n",
       "    .dataframe thead th {\n",
       "        text-align: right;\n",
       "    }\n",
       "</style>\n",
       "<table border=\"1\" class=\"dataframe\">\n",
       "  <thead>\n",
       "    <tr style=\"text-align: right;\">\n",
       "      <th></th>\n",
       "      <th>Year</th>\n",
       "    </tr>\n",
       "  </thead>\n",
       "  <tbody>\n",
       "    <tr>\n",
       "      <th>count</th>\n",
       "      <td>6723.000000</td>\n",
       "    </tr>\n",
       "    <tr>\n",
       "      <th>mean</th>\n",
       "      <td>2008.097724</td>\n",
       "    </tr>\n",
       "    <tr>\n",
       "      <th>std</th>\n",
       "      <td>9.278981</td>\n",
       "    </tr>\n",
       "    <tr>\n",
       "      <th>min</th>\n",
       "      <td>1789.000000</td>\n",
       "    </tr>\n",
       "    <tr>\n",
       "      <th>25%</th>\n",
       "      <td>2005.000000</td>\n",
       "    </tr>\n",
       "    <tr>\n",
       "      <th>50%</th>\n",
       "      <td>2009.000000</td>\n",
       "    </tr>\n",
       "    <tr>\n",
       "      <th>75%</th>\n",
       "      <td>2014.000000</td>\n",
       "    </tr>\n",
       "    <tr>\n",
       "      <th>max</th>\n",
       "      <td>2022.000000</td>\n",
       "    </tr>\n",
       "  </tbody>\n",
       "</table>\n",
       "</div>"
      ],
      "text/plain": [
       "              Year\n",
       "count  6723.000000\n",
       "mean   2008.097724\n",
       "std       9.278981\n",
       "min    1789.000000\n",
       "25%    2005.000000\n",
       "50%    2009.000000\n",
       "75%    2014.000000\n",
       "max    2022.000000"
      ]
     },
     "execution_count": 16,
     "metadata": {},
     "output_type": "execute_result"
    }
   ],
   "source": [
    "df.describe()"
   ]
  },
  {
   "cell_type": "code",
   "execution_count": 17,
   "metadata": {},
   "outputs": [
    {
     "data": {
      "text/plain": [
       "Index(['Year', 'Region', 'Form of Violence', 'Type of Measure', 'Country',\n",
       "       'Title'],\n",
       "      dtype='object')"
      ]
     },
     "execution_count": 17,
     "metadata": {},
     "output_type": "execute_result"
    }
   ],
   "source": [
    "df.columns"
   ]
  },
  {
   "cell_type": "code",
   "execution_count": 18,
   "metadata": {},
   "outputs": [],
   "source": [
    "df.rename(columns={\n",
    "    'Year': 'Ano',\n",
    "    'Region': 'Continente',\n",
    "    'Form of Violence': 'Forma de Violencia',\n",
    "    'Type of Measure': 'Tipo de Medicao',\n",
    "    'Country': 'Pais',\n",
    "    'Title': 'Titulo'\n",
    "}, inplace=True)"
   ]
  },
  {
   "cell_type": "code",
   "execution_count": 19,
   "metadata": {},
   "outputs": [
    {
     "data": {
      "text/plain": [
       "Index(['Ano', 'Continente', 'Forma de Violencia', 'Tipo de Medicao', 'Pais',\n",
       "       'Titulo'],\n",
       "      dtype='object')"
      ]
     },
     "execution_count": 19,
     "metadata": {},
     "output_type": "execute_result"
    }
   ],
   "source": [
    "df.columns"
   ]
  },
  {
   "cell_type": "code",
   "execution_count": 20,
   "metadata": {},
   "outputs": [
    {
     "data": {
      "text/html": [
       "<div>\n",
       "<style scoped>\n",
       "    .dataframe tbody tr th:only-of-type {\n",
       "        vertical-align: middle;\n",
       "    }\n",
       "\n",
       "    .dataframe tbody tr th {\n",
       "        vertical-align: top;\n",
       "    }\n",
       "\n",
       "    .dataframe thead th {\n",
       "        text-align: right;\n",
       "    }\n",
       "</style>\n",
       "<table border=\"1\" class=\"dataframe\">\n",
       "  <thead>\n",
       "    <tr style=\"text-align: right;\">\n",
       "      <th></th>\n",
       "      <th>Ano</th>\n",
       "      <th>Continente</th>\n",
       "      <th>Forma de Violencia</th>\n",
       "      <th>Tipo de Medicao</th>\n",
       "      <th>Pais</th>\n",
       "      <th>Titulo</th>\n",
       "    </tr>\n",
       "  </thead>\n",
       "  <tbody>\n",
       "    <tr>\n",
       "      <th>0</th>\n",
       "      <td>1984.0</td>\n",
       "      <td>Africa</td>\n",
       "      <td>Sexual violence</td>\n",
       "      <td>Laws &gt; Violence against women &gt; Legislation</td>\n",
       "      <td>Algeria</td>\n",
       "      <td>Article 336 of the Penal Code</td>\n",
       "    </tr>\n",
       "    <tr>\n",
       "      <th>1</th>\n",
       "      <td>1996.0</td>\n",
       "      <td>Africa</td>\n",
       "      <td>Violence against women and girls</td>\n",
       "      <td>Laws &gt; Violence against women &gt; Constitutional...</td>\n",
       "      <td>Algeria</td>\n",
       "      <td>Article 34 of the Constitution</td>\n",
       "    </tr>\n",
       "    <tr>\n",
       "      <th>2</th>\n",
       "      <td>1996.0</td>\n",
       "      <td>Africa</td>\n",
       "      <td>Violence against women and girls</td>\n",
       "      <td>Laws &gt; Violence against women &gt; Constitutional...</td>\n",
       "      <td>Algeria</td>\n",
       "      <td>Article 35 of the Constitution</td>\n",
       "    </tr>\n",
       "    <tr>\n",
       "      <th>3</th>\n",
       "      <td>2000.0</td>\n",
       "      <td>Africa</td>\n",
       "      <td>Violence against women and girls</td>\n",
       "      <td>Prevention &gt; Awareness-raising Campaigns</td>\n",
       "      <td>Algeria</td>\n",
       "      <td>Association Femmes En Communication - Actions ...</td>\n",
       "    </tr>\n",
       "    <tr>\n",
       "      <th>4</th>\n",
       "      <td>2000.0</td>\n",
       "      <td>Africa</td>\n",
       "      <td>Domestic violence/Intimate partner violence</td>\n",
       "      <td>Research and statistical data &gt; Other research...</td>\n",
       "      <td>Algeria</td>\n",
       "      <td>Lancement De La Stratégie Nationale De Lutte C...</td>\n",
       "    </tr>\n",
       "    <tr>\n",
       "      <th>5</th>\n",
       "      <td>2001.0</td>\n",
       "      <td>Africa</td>\n",
       "      <td>Domestic violence/Intimate partner violence; \\...</td>\n",
       "      <td>Research and statistical data &gt; Administrative...</td>\n",
       "      <td>Algeria</td>\n",
       "      <td>Police Survey on Violence against Women</td>\n",
       "    </tr>\n",
       "    <tr>\n",
       "      <th>6</th>\n",
       "      <td>2002.0</td>\n",
       "      <td>Africa</td>\n",
       "      <td>Violence against women and girls</td>\n",
       "      <td>Services &gt; Social services &gt; Shelter Safe acco...</td>\n",
       "      <td>Algeria</td>\n",
       "      <td>Hébergement Temporaires</td>\n",
       "    </tr>\n",
       "    <tr>\n",
       "      <th>7</th>\n",
       "      <td>2002.0</td>\n",
       "      <td>Africa</td>\n",
       "      <td>Domestic violence/Intimate partner violence; \\...</td>\n",
       "      <td>Research and statistical data &gt; Dedicated viol...</td>\n",
       "      <td>Algeria</td>\n",
       "      <td>L'enquête Nationale Sur La Violence À L'encont...</td>\n",
       "    </tr>\n",
       "    <tr>\n",
       "      <th>8</th>\n",
       "      <td>2003.0</td>\n",
       "      <td>Africa</td>\n",
       "      <td>Violence against women and girls</td>\n",
       "      <td>Prevention &gt; Awareness-raising Campaigns</td>\n",
       "      <td>Algeria</td>\n",
       "      <td>Atelier Portant Sur « L'analyse De La Situatio...</td>\n",
       "    </tr>\n",
       "    <tr>\n",
       "      <th>9</th>\n",
       "      <td>2004.0</td>\n",
       "      <td>Africa</td>\n",
       "      <td>Violence against women and girls</td>\n",
       "      <td>Prevention &gt; Awareness-raising Campaigns</td>\n",
       "      <td>Algeria</td>\n",
       "      <td>Journée Internationale Pour L'élimination De L...</td>\n",
       "    </tr>\n",
       "  </tbody>\n",
       "</table>\n",
       "</div>"
      ],
      "text/plain": [
       "      Ano Continente                                 Forma de Violencia  \\\n",
       "0  1984.0     Africa                                    Sexual violence   \n",
       "1  1996.0     Africa                   Violence against women and girls   \n",
       "2  1996.0     Africa                   Violence against women and girls   \n",
       "3  2000.0     Africa                   Violence against women and girls   \n",
       "4  2000.0     Africa        Domestic violence/Intimate partner violence   \n",
       "5  2001.0     Africa  Domestic violence/Intimate partner violence; \\...   \n",
       "6  2002.0     Africa                   Violence against women and girls   \n",
       "7  2002.0     Africa  Domestic violence/Intimate partner violence; \\...   \n",
       "8  2003.0     Africa                   Violence against women and girls   \n",
       "9  2004.0     Africa                   Violence against women and girls   \n",
       "\n",
       "                                     Tipo de Medicao     Pais  \\\n",
       "0        Laws > Violence against women > Legislation  Algeria   \n",
       "1  Laws > Violence against women > Constitutional...  Algeria   \n",
       "2  Laws > Violence against women > Constitutional...  Algeria   \n",
       "3           Prevention > Awareness-raising Campaigns  Algeria   \n",
       "4  Research and statistical data > Other research...  Algeria   \n",
       "5  Research and statistical data > Administrative...  Algeria   \n",
       "6  Services > Social services > Shelter Safe acco...  Algeria   \n",
       "7  Research and statistical data > Dedicated viol...  Algeria   \n",
       "8           Prevention > Awareness-raising Campaigns  Algeria   \n",
       "9           Prevention > Awareness-raising Campaigns  Algeria   \n",
       "\n",
       "                                              Titulo  \n",
       "0                      Article 336 of the Penal Code  \n",
       "1                     Article 34 of the Constitution  \n",
       "2                     Article 35 of the Constitution  \n",
       "3  Association Femmes En Communication - Actions ...  \n",
       "4  Lancement De La Stratégie Nationale De Lutte C...  \n",
       "5            Police Survey on Violence against Women  \n",
       "6                            Hébergement Temporaires  \n",
       "7  L'enquête Nationale Sur La Violence À L'encont...  \n",
       "8  Atelier Portant Sur « L'analyse De La Situatio...  \n",
       "9  Journée Internationale Pour L'élimination De L...  "
      ]
     },
     "execution_count": 20,
     "metadata": {},
     "output_type": "execute_result"
    }
   ],
   "source": [
    "df.head(10)"
   ]
  },
  {
   "cell_type": "code",
   "execution_count": 21,
   "metadata": {},
   "outputs": [],
   "source": [
    "medicao_separada = df['Tipo de Medicao'].str.split(' > ', expand=True)\n",
    "medicao_separada.columns = ['Medicao Nivel 1', 'Medicao Nivel 2', 'Medicao Nivel 3']\n",
    "df = pd.concat([df, medicao_separada], axis=1)"
   ]
  },
  {
   "cell_type": "code",
   "execution_count": 22,
   "metadata": {},
   "outputs": [
    {
     "data": {
      "text/plain": [
       "Index(['Ano', 'Continente', 'Forma de Violencia', 'Tipo de Medicao', 'Pais',\n",
       "       'Titulo', 'Medicao Nivel 1', 'Medicao Nivel 2', 'Medicao Nivel 3'],\n",
       "      dtype='object')"
      ]
     },
     "execution_count": 22,
     "metadata": {},
     "output_type": "execute_result"
    }
   ],
   "source": [
    "df.columns"
   ]
  },
  {
   "cell_type": "code",
   "execution_count": 23,
   "metadata": {},
   "outputs": [
    {
     "data": {
      "text/html": [
       "<div>\n",
       "<style scoped>\n",
       "    .dataframe tbody tr th:only-of-type {\n",
       "        vertical-align: middle;\n",
       "    }\n",
       "\n",
       "    .dataframe tbody tr th {\n",
       "        vertical-align: top;\n",
       "    }\n",
       "\n",
       "    .dataframe thead th {\n",
       "        text-align: right;\n",
       "    }\n",
       "</style>\n",
       "<table border=\"1\" class=\"dataframe\">\n",
       "  <thead>\n",
       "    <tr style=\"text-align: right;\">\n",
       "      <th></th>\n",
       "      <th>Ano</th>\n",
       "      <th>Continente</th>\n",
       "      <th>Forma de Violencia</th>\n",
       "      <th>Tipo de Medicao</th>\n",
       "      <th>Pais</th>\n",
       "      <th>Titulo</th>\n",
       "      <th>Medicao Nivel 1</th>\n",
       "      <th>Medicao Nivel 2</th>\n",
       "      <th>Medicao Nivel 3</th>\n",
       "    </tr>\n",
       "  </thead>\n",
       "  <tbody>\n",
       "    <tr>\n",
       "      <th>0</th>\n",
       "      <td>1984.0</td>\n",
       "      <td>Africa</td>\n",
       "      <td>Sexual violence</td>\n",
       "      <td>Laws &gt; Violence against women &gt; Legislation</td>\n",
       "      <td>Algeria</td>\n",
       "      <td>Article 336 of the Penal Code</td>\n",
       "      <td>Laws</td>\n",
       "      <td>Violence against women</td>\n",
       "      <td>Legislation</td>\n",
       "    </tr>\n",
       "    <tr>\n",
       "      <th>1</th>\n",
       "      <td>1996.0</td>\n",
       "      <td>Africa</td>\n",
       "      <td>Violence against women and girls</td>\n",
       "      <td>Laws &gt; Violence against women &gt; Constitutional...</td>\n",
       "      <td>Algeria</td>\n",
       "      <td>Article 34 of the Constitution</td>\n",
       "      <td>Laws</td>\n",
       "      <td>Violence against women</td>\n",
       "      <td>Constitutional provision</td>\n",
       "    </tr>\n",
       "    <tr>\n",
       "      <th>2</th>\n",
       "      <td>1996.0</td>\n",
       "      <td>Africa</td>\n",
       "      <td>Violence against women and girls</td>\n",
       "      <td>Laws &gt; Violence against women &gt; Constitutional...</td>\n",
       "      <td>Algeria</td>\n",
       "      <td>Article 35 of the Constitution</td>\n",
       "      <td>Laws</td>\n",
       "      <td>Violence against women</td>\n",
       "      <td>Constitutional provision</td>\n",
       "    </tr>\n",
       "    <tr>\n",
       "      <th>3</th>\n",
       "      <td>2000.0</td>\n",
       "      <td>Africa</td>\n",
       "      <td>Violence against women and girls</td>\n",
       "      <td>Prevention &gt; Awareness-raising Campaigns</td>\n",
       "      <td>Algeria</td>\n",
       "      <td>Association Femmes En Communication - Actions ...</td>\n",
       "      <td>Prevention</td>\n",
       "      <td>Awareness-raising Campaigns</td>\n",
       "      <td>None</td>\n",
       "    </tr>\n",
       "    <tr>\n",
       "      <th>4</th>\n",
       "      <td>2000.0</td>\n",
       "      <td>Africa</td>\n",
       "      <td>Domestic violence/Intimate partner violence</td>\n",
       "      <td>Research and statistical data &gt; Other research...</td>\n",
       "      <td>Algeria</td>\n",
       "      <td>Lancement De La Stratégie Nationale De Lutte C...</td>\n",
       "      <td>Research and statistical data</td>\n",
       "      <td>Other research and statistical data</td>\n",
       "      <td>None</td>\n",
       "    </tr>\n",
       "    <tr>\n",
       "      <th>5</th>\n",
       "      <td>2001.0</td>\n",
       "      <td>Africa</td>\n",
       "      <td>Domestic violence/Intimate partner violence; \\...</td>\n",
       "      <td>Research and statistical data &gt; Administrative...</td>\n",
       "      <td>Algeria</td>\n",
       "      <td>Police Survey on Violence against Women</td>\n",
       "      <td>Research and statistical data</td>\n",
       "      <td>Administrative data</td>\n",
       "      <td>Police</td>\n",
       "    </tr>\n",
       "    <tr>\n",
       "      <th>6</th>\n",
       "      <td>2002.0</td>\n",
       "      <td>Africa</td>\n",
       "      <td>Violence against women and girls</td>\n",
       "      <td>Services &gt; Social services &gt; Shelter Safe acco...</td>\n",
       "      <td>Algeria</td>\n",
       "      <td>Hébergement Temporaires</td>\n",
       "      <td>Services</td>\n",
       "      <td>Social services</td>\n",
       "      <td>Shelter Safe accommodation</td>\n",
       "    </tr>\n",
       "    <tr>\n",
       "      <th>7</th>\n",
       "      <td>2002.0</td>\n",
       "      <td>Africa</td>\n",
       "      <td>Domestic violence/Intimate partner violence; \\...</td>\n",
       "      <td>Research and statistical data &gt; Dedicated viol...</td>\n",
       "      <td>Algeria</td>\n",
       "      <td>L'enquête Nationale Sur La Violence À L'encont...</td>\n",
       "      <td>Research and statistical data</td>\n",
       "      <td>Dedicated violence against women survey</td>\n",
       "      <td>None</td>\n",
       "    </tr>\n",
       "    <tr>\n",
       "      <th>8</th>\n",
       "      <td>2003.0</td>\n",
       "      <td>Africa</td>\n",
       "      <td>Violence against women and girls</td>\n",
       "      <td>Prevention &gt; Awareness-raising Campaigns</td>\n",
       "      <td>Algeria</td>\n",
       "      <td>Atelier Portant Sur « L'analyse De La Situatio...</td>\n",
       "      <td>Prevention</td>\n",
       "      <td>Awareness-raising Campaigns</td>\n",
       "      <td>None</td>\n",
       "    </tr>\n",
       "    <tr>\n",
       "      <th>9</th>\n",
       "      <td>2004.0</td>\n",
       "      <td>Africa</td>\n",
       "      <td>Violence against women and girls</td>\n",
       "      <td>Prevention &gt; Awareness-raising Campaigns</td>\n",
       "      <td>Algeria</td>\n",
       "      <td>Journée Internationale Pour L'élimination De L...</td>\n",
       "      <td>Prevention</td>\n",
       "      <td>Awareness-raising Campaigns</td>\n",
       "      <td>None</td>\n",
       "    </tr>\n",
       "  </tbody>\n",
       "</table>\n",
       "</div>"
      ],
      "text/plain": [
       "      Ano Continente                                 Forma de Violencia  \\\n",
       "0  1984.0     Africa                                    Sexual violence   \n",
       "1  1996.0     Africa                   Violence against women and girls   \n",
       "2  1996.0     Africa                   Violence against women and girls   \n",
       "3  2000.0     Africa                   Violence against women and girls   \n",
       "4  2000.0     Africa        Domestic violence/Intimate partner violence   \n",
       "5  2001.0     Africa  Domestic violence/Intimate partner violence; \\...   \n",
       "6  2002.0     Africa                   Violence against women and girls   \n",
       "7  2002.0     Africa  Domestic violence/Intimate partner violence; \\...   \n",
       "8  2003.0     Africa                   Violence against women and girls   \n",
       "9  2004.0     Africa                   Violence against women and girls   \n",
       "\n",
       "                                     Tipo de Medicao     Pais  \\\n",
       "0        Laws > Violence against women > Legislation  Algeria   \n",
       "1  Laws > Violence against women > Constitutional...  Algeria   \n",
       "2  Laws > Violence against women > Constitutional...  Algeria   \n",
       "3           Prevention > Awareness-raising Campaigns  Algeria   \n",
       "4  Research and statistical data > Other research...  Algeria   \n",
       "5  Research and statistical data > Administrative...  Algeria   \n",
       "6  Services > Social services > Shelter Safe acco...  Algeria   \n",
       "7  Research and statistical data > Dedicated viol...  Algeria   \n",
       "8           Prevention > Awareness-raising Campaigns  Algeria   \n",
       "9           Prevention > Awareness-raising Campaigns  Algeria   \n",
       "\n",
       "                                              Titulo  \\\n",
       "0                      Article 336 of the Penal Code   \n",
       "1                     Article 34 of the Constitution   \n",
       "2                     Article 35 of the Constitution   \n",
       "3  Association Femmes En Communication - Actions ...   \n",
       "4  Lancement De La Stratégie Nationale De Lutte C...   \n",
       "5            Police Survey on Violence against Women   \n",
       "6                            Hébergement Temporaires   \n",
       "7  L'enquête Nationale Sur La Violence À L'encont...   \n",
       "8  Atelier Portant Sur « L'analyse De La Situatio...   \n",
       "9  Journée Internationale Pour L'élimination De L...   \n",
       "\n",
       "                 Medicao Nivel 1                          Medicao Nivel 2  \\\n",
       "0                           Laws                   Violence against women   \n",
       "1                           Laws                   Violence against women   \n",
       "2                           Laws                   Violence against women   \n",
       "3                     Prevention              Awareness-raising Campaigns   \n",
       "4  Research and statistical data      Other research and statistical data   \n",
       "5  Research and statistical data                      Administrative data   \n",
       "6                       Services                          Social services   \n",
       "7  Research and statistical data  Dedicated violence against women survey   \n",
       "8                     Prevention              Awareness-raising Campaigns   \n",
       "9                     Prevention              Awareness-raising Campaigns   \n",
       "\n",
       "              Medicao Nivel 3  \n",
       "0                 Legislation  \n",
       "1    Constitutional provision  \n",
       "2    Constitutional provision  \n",
       "3                        None  \n",
       "4                        None  \n",
       "5                      Police  \n",
       "6  Shelter Safe accommodation  \n",
       "7                        None  \n",
       "8                        None  \n",
       "9                        None  "
      ]
     },
     "execution_count": 23,
     "metadata": {},
     "output_type": "execute_result"
    }
   ],
   "source": [
    "df.head(10)"
   ]
  },
  {
   "cell_type": "code",
   "execution_count": 24,
   "metadata": {},
   "outputs": [],
   "source": [
    "df[\"Ano\"] = df[\"Ano\"].fillna(0)"
   ]
  },
  {
   "cell_type": "code",
   "execution_count": 25,
   "metadata": {},
   "outputs": [],
   "source": [
    "df[\"Ano\"] = df[\"Ano\"].astype(\"Int64\")"
   ]
  },
  {
   "cell_type": "code",
   "execution_count": 26,
   "metadata": {},
   "outputs": [
    {
     "name": "stdout",
     "output_type": "stream",
     "text": [
      "<class 'pandas.core.frame.DataFrame'>\n",
      "Index: 7439 entries, 0 to 7439\n",
      "Data columns (total 9 columns):\n",
      " #   Column              Non-Null Count  Dtype \n",
      "---  ------              --------------  ----- \n",
      " 0   Ano                 7439 non-null   Int64 \n",
      " 1   Continente          7436 non-null   object\n",
      " 2   Forma de Violencia  7434 non-null   object\n",
      " 3   Tipo de Medicao     7435 non-null   object\n",
      " 4   Pais                7439 non-null   object\n",
      " 5   Titulo              7439 non-null   object\n",
      " 6   Medicao Nivel 1     7435 non-null   object\n",
      " 7   Medicao Nivel 2     6431 non-null   object\n",
      " 8   Medicao Nivel 3     3919 non-null   object\n",
      "dtypes: Int64(1), object(8)\n",
      "memory usage: 588.4+ KB\n"
     ]
    }
   ],
   "source": [
    "df.info()"
   ]
  },
  {
   "cell_type": "code",
   "execution_count": 27,
   "metadata": {},
   "outputs": [
    {
     "data": {
      "text/html": [
       "<div>\n",
       "<style scoped>\n",
       "    .dataframe tbody tr th:only-of-type {\n",
       "        vertical-align: middle;\n",
       "    }\n",
       "\n",
       "    .dataframe tbody tr th {\n",
       "        vertical-align: top;\n",
       "    }\n",
       "\n",
       "    .dataframe thead th {\n",
       "        text-align: right;\n",
       "    }\n",
       "</style>\n",
       "<table border=\"1\" class=\"dataframe\">\n",
       "  <thead>\n",
       "    <tr style=\"text-align: right;\">\n",
       "      <th></th>\n",
       "      <th>Ano</th>\n",
       "      <th>Continente</th>\n",
       "      <th>Forma de Violencia</th>\n",
       "      <th>Tipo de Medicao</th>\n",
       "      <th>Pais</th>\n",
       "      <th>Titulo</th>\n",
       "      <th>Medicao Nivel 1</th>\n",
       "      <th>Medicao Nivel 2</th>\n",
       "      <th>Medicao Nivel 3</th>\n",
       "    </tr>\n",
       "  </thead>\n",
       "  <tbody>\n",
       "    <tr>\n",
       "      <th>0</th>\n",
       "      <td>1984</td>\n",
       "      <td>Africa</td>\n",
       "      <td>Sexual violence</td>\n",
       "      <td>Laws &gt; Violence against women &gt; Legislation</td>\n",
       "      <td>Algeria</td>\n",
       "      <td>Article 336 of the Penal Code</td>\n",
       "      <td>Laws</td>\n",
       "      <td>Violence against women</td>\n",
       "      <td>Legislation</td>\n",
       "    </tr>\n",
       "    <tr>\n",
       "      <th>1</th>\n",
       "      <td>1996</td>\n",
       "      <td>Africa</td>\n",
       "      <td>Violence against women and girls</td>\n",
       "      <td>Laws &gt; Violence against women &gt; Constitutional...</td>\n",
       "      <td>Algeria</td>\n",
       "      <td>Article 34 of the Constitution</td>\n",
       "      <td>Laws</td>\n",
       "      <td>Violence against women</td>\n",
       "      <td>Constitutional provision</td>\n",
       "    </tr>\n",
       "    <tr>\n",
       "      <th>2</th>\n",
       "      <td>1996</td>\n",
       "      <td>Africa</td>\n",
       "      <td>Violence against women and girls</td>\n",
       "      <td>Laws &gt; Violence against women &gt; Constitutional...</td>\n",
       "      <td>Algeria</td>\n",
       "      <td>Article 35 of the Constitution</td>\n",
       "      <td>Laws</td>\n",
       "      <td>Violence against women</td>\n",
       "      <td>Constitutional provision</td>\n",
       "    </tr>\n",
       "    <tr>\n",
       "      <th>3</th>\n",
       "      <td>2000</td>\n",
       "      <td>Africa</td>\n",
       "      <td>Violence against women and girls</td>\n",
       "      <td>Prevention &gt; Awareness-raising Campaigns</td>\n",
       "      <td>Algeria</td>\n",
       "      <td>Association Femmes En Communication - Actions ...</td>\n",
       "      <td>Prevention</td>\n",
       "      <td>Awareness-raising Campaigns</td>\n",
       "      <td>None</td>\n",
       "    </tr>\n",
       "    <tr>\n",
       "      <th>4</th>\n",
       "      <td>2000</td>\n",
       "      <td>Africa</td>\n",
       "      <td>Domestic violence/Intimate partner violence</td>\n",
       "      <td>Research and statistical data &gt; Other research...</td>\n",
       "      <td>Algeria</td>\n",
       "      <td>Lancement De La Stratégie Nationale De Lutte C...</td>\n",
       "      <td>Research and statistical data</td>\n",
       "      <td>Other research and statistical data</td>\n",
       "      <td>None</td>\n",
       "    </tr>\n",
       "    <tr>\n",
       "      <th>5</th>\n",
       "      <td>2001</td>\n",
       "      <td>Africa</td>\n",
       "      <td>Domestic violence/Intimate partner violence; \\...</td>\n",
       "      <td>Research and statistical data &gt; Administrative...</td>\n",
       "      <td>Algeria</td>\n",
       "      <td>Police Survey on Violence against Women</td>\n",
       "      <td>Research and statistical data</td>\n",
       "      <td>Administrative data</td>\n",
       "      <td>Police</td>\n",
       "    </tr>\n",
       "    <tr>\n",
       "      <th>6</th>\n",
       "      <td>2002</td>\n",
       "      <td>Africa</td>\n",
       "      <td>Violence against women and girls</td>\n",
       "      <td>Services &gt; Social services &gt; Shelter Safe acco...</td>\n",
       "      <td>Algeria</td>\n",
       "      <td>Hébergement Temporaires</td>\n",
       "      <td>Services</td>\n",
       "      <td>Social services</td>\n",
       "      <td>Shelter Safe accommodation</td>\n",
       "    </tr>\n",
       "    <tr>\n",
       "      <th>7</th>\n",
       "      <td>2002</td>\n",
       "      <td>Africa</td>\n",
       "      <td>Domestic violence/Intimate partner violence; \\...</td>\n",
       "      <td>Research and statistical data &gt; Dedicated viol...</td>\n",
       "      <td>Algeria</td>\n",
       "      <td>L'enquête Nationale Sur La Violence À L'encont...</td>\n",
       "      <td>Research and statistical data</td>\n",
       "      <td>Dedicated violence against women survey</td>\n",
       "      <td>None</td>\n",
       "    </tr>\n",
       "    <tr>\n",
       "      <th>8</th>\n",
       "      <td>2003</td>\n",
       "      <td>Africa</td>\n",
       "      <td>Violence against women and girls</td>\n",
       "      <td>Prevention &gt; Awareness-raising Campaigns</td>\n",
       "      <td>Algeria</td>\n",
       "      <td>Atelier Portant Sur « L'analyse De La Situatio...</td>\n",
       "      <td>Prevention</td>\n",
       "      <td>Awareness-raising Campaigns</td>\n",
       "      <td>None</td>\n",
       "    </tr>\n",
       "    <tr>\n",
       "      <th>9</th>\n",
       "      <td>2004</td>\n",
       "      <td>Africa</td>\n",
       "      <td>Violence against women and girls</td>\n",
       "      <td>Prevention &gt; Awareness-raising Campaigns</td>\n",
       "      <td>Algeria</td>\n",
       "      <td>Journée Internationale Pour L'élimination De L...</td>\n",
       "      <td>Prevention</td>\n",
       "      <td>Awareness-raising Campaigns</td>\n",
       "      <td>None</td>\n",
       "    </tr>\n",
       "  </tbody>\n",
       "</table>\n",
       "</div>"
      ],
      "text/plain": [
       "    Ano Continente                                 Forma de Violencia  \\\n",
       "0  1984     Africa                                    Sexual violence   \n",
       "1  1996     Africa                   Violence against women and girls   \n",
       "2  1996     Africa                   Violence against women and girls   \n",
       "3  2000     Africa                   Violence against women and girls   \n",
       "4  2000     Africa        Domestic violence/Intimate partner violence   \n",
       "5  2001     Africa  Domestic violence/Intimate partner violence; \\...   \n",
       "6  2002     Africa                   Violence against women and girls   \n",
       "7  2002     Africa  Domestic violence/Intimate partner violence; \\...   \n",
       "8  2003     Africa                   Violence against women and girls   \n",
       "9  2004     Africa                   Violence against women and girls   \n",
       "\n",
       "                                     Tipo de Medicao     Pais  \\\n",
       "0        Laws > Violence against women > Legislation  Algeria   \n",
       "1  Laws > Violence against women > Constitutional...  Algeria   \n",
       "2  Laws > Violence against women > Constitutional...  Algeria   \n",
       "3           Prevention > Awareness-raising Campaigns  Algeria   \n",
       "4  Research and statistical data > Other research...  Algeria   \n",
       "5  Research and statistical data > Administrative...  Algeria   \n",
       "6  Services > Social services > Shelter Safe acco...  Algeria   \n",
       "7  Research and statistical data > Dedicated viol...  Algeria   \n",
       "8           Prevention > Awareness-raising Campaigns  Algeria   \n",
       "9           Prevention > Awareness-raising Campaigns  Algeria   \n",
       "\n",
       "                                              Titulo  \\\n",
       "0                      Article 336 of the Penal Code   \n",
       "1                     Article 34 of the Constitution   \n",
       "2                     Article 35 of the Constitution   \n",
       "3  Association Femmes En Communication - Actions ...   \n",
       "4  Lancement De La Stratégie Nationale De Lutte C...   \n",
       "5            Police Survey on Violence against Women   \n",
       "6                            Hébergement Temporaires   \n",
       "7  L'enquête Nationale Sur La Violence À L'encont...   \n",
       "8  Atelier Portant Sur « L'analyse De La Situatio...   \n",
       "9  Journée Internationale Pour L'élimination De L...   \n",
       "\n",
       "                 Medicao Nivel 1                          Medicao Nivel 2  \\\n",
       "0                           Laws                   Violence against women   \n",
       "1                           Laws                   Violence against women   \n",
       "2                           Laws                   Violence against women   \n",
       "3                     Prevention              Awareness-raising Campaigns   \n",
       "4  Research and statistical data      Other research and statistical data   \n",
       "5  Research and statistical data                      Administrative data   \n",
       "6                       Services                          Social services   \n",
       "7  Research and statistical data  Dedicated violence against women survey   \n",
       "8                     Prevention              Awareness-raising Campaigns   \n",
       "9                     Prevention              Awareness-raising Campaigns   \n",
       "\n",
       "              Medicao Nivel 3  \n",
       "0                 Legislation  \n",
       "1    Constitutional provision  \n",
       "2    Constitutional provision  \n",
       "3                        None  \n",
       "4                        None  \n",
       "5                      Police  \n",
       "6  Shelter Safe accommodation  \n",
       "7                        None  \n",
       "8                        None  \n",
       "9                        None  "
      ]
     },
     "execution_count": 27,
     "metadata": {},
     "output_type": "execute_result"
    }
   ],
   "source": [
    "df.head(10)"
   ]
  },
  {
   "cell_type": "code",
   "execution_count": 27,
   "metadata": {},
   "outputs": [],
   "source": [
    "# Exportando dados para consultas SQL\n",
    "df.to_csv('Woman_Violence.csv', index=False)"
   ]
  },
  {
   "cell_type": "markdown",
   "metadata": {},
   "source": [
    "### Análise dos Dados"
   ]
  },
  {
   "cell_type": "markdown",
   "metadata": {},
   "source": [
    "Países que mais tem registros de casamento infantil e forçado"
   ]
  },
  {
   "cell_type": "code",
   "execution_count": 28,
   "metadata": {},
   "outputs": [
    {
     "data": {
      "image/png": "[encoded data removed]",
      "text/plain": [
       "<Figure size 640x480 with 1 Axes>"
      ]
     },
     "metadata": {},
     "output_type": "display_data"
    }
   ],
   "source": [
    "df_filtrado = df[df[\"Forma de Violencia\"] == \"Child early and forced marriage\"]\n",
    "contagem_paises = df_filtrado[\"Pais\"].value_counts()\n",
    "top_10_paises = contagem_paises.head(10)\n",
    "\n",
    "top_10_paises.plot(kind=\"bar\", edgecolor=\"blue\", color=\"tomato\")\n",
    "plt.xlabel(\"País\")\n",
    "plt.ylabel(\"Número de Registros\")\n",
    "plt.title(\"Casamento Infantil\")\n",
    "plt.xticks(rotation=90)\n",
    "plt.show()"
   ]
  },
  {
   "cell_type": "markdown",
   "metadata": {},
   "source": [
    "Evolução dos registros de violência contra mulheres a partir de 1990"
   ]
  },
  {
   "cell_type": "code",
   "execution_count": 29,
   "metadata": {},
   "outputs": [
    {
     "data": {
      "image/png": "[encoded data removed]",
      "text/plain": [
       "<Figure size 640x480 with 1 Axes>"
      ]
     },
     "metadata": {},
     "output_type": "display_data"
    }
   ],
   "source": [
    "ano_filtrado = df[df[\"Ano\"] > 1990]\n",
    "\n",
    "ano_filtrado[\"Ano\"].plot.hist(edgecolor=\"black\", color=\"rebeccapurple\")\n",
    "plt.xlabel(\"Ano\")\n",
    "plt.ylabel(\"Quantidade\")\n",
    "plt.title(\"Evolução de Registros por Ano, a partir de 1990\")\n",
    "\n",
    "plt.show()"
   ]
  },
  {
   "cell_type": "markdown",
   "metadata": {},
   "source": [
    "Países que mais registram casos de violência contra mulher"
   ]
  },
  {
   "cell_type": "code",
   "execution_count": 50,
   "metadata": {},
   "outputs": [
    {
     "data": {
      "image/png": "[encoded data removed]",
      "text/plain": [
       "<Figure size 640x480 with 1 Axes>"
      ]
     },
     "metadata": {},
     "output_type": "display_data"
    }
   ],
   "source": [
    "contagem_paises = df[\"Pais\"].value_counts()\n",
    "top_10_paises = contagem_paises.head(10)\n",
    "\n",
    "top_10_paises.plot(kind=\"barh\", color=\"darkblue\", edgecolor=\"red\")\n",
    "plt.ylabel(\"País\")\n",
    "plt.xlabel(\"Número de Registros\")\n",
    "plt.title(\"10 Países que Mais Registram\")\n",
    "plt.xticks(rotation=0)\n",
    "plt.show()"
   ]
  },
  {
   "cell_type": "markdown",
   "metadata": {},
   "source": [
    "Países que menos registram casos de violência contra mulher"
   ]
  },
  {
   "cell_type": "code",
   "execution_count": 55,
   "metadata": {},
   "outputs": [
    {
     "data": {
      "image/png": "[encoded data removed]",
      "text/plain": [
       "<Figure size 640x480 with 1 Axes>"
      ]
     },
     "metadata": {},
     "output_type": "display_data"
    }
   ],
   "source": [
    "contagem_paises = df[\"Pais\"].value_counts()\n",
    "top_10_paises = contagem_paises.tail(10)\n",
    "\n",
    "top_10_paises.plot(kind=\"barh\", color=\"darkorange\", edgecolor=\"green\")\n",
    "plt.ylabel(\"País\")\n",
    "plt.xlabel(\"Número de Registros\")\n",
    "plt.title(\"10 Países que Menos Registram\")\n",
    "plt.xticks(rotation=0)\n",
    "plt.show()"
   ]
  },
  {
   "cell_type": "markdown",
   "metadata": {},
   "source": [
    "### Teste de Hipótese\n",
    "Hipótese Nula H0: O Brasil não está entre os países que mais registram \\\n",
    "Hipótese Alternativa H1: O Brasil está entre os países que mais registram"
   ]
  },
  {
   "cell_type": "code",
   "execution_count": 90,
   "metadata": {},
   "outputs": [],
   "source": [
    "from statsmodels.stats.weightstats import ztest"
   ]
  },
  {
   "cell_type": "code",
   "execution_count": 100,
   "metadata": {},
   "outputs": [
    {
     "name": "stdout",
     "output_type": "stream",
     "text": [
      "Teste Z de Brasil\n",
      "Estatística Z: -inf\n",
      "Valor P: 1.0\n",
      "Não rejeitamos a hipótese nula. O Brasil não está entre os países que mais registram.\n"
     ]
    },
    {
     "name": "stderr",
     "output_type": "stream",
     "text": [
      "c:\\Users\\Lidi\\AppData\\Local\\Programs\\Python\\Python312\\Lib\\site-packages\\statsmodels\\stats\\weightstats.py:748: RuntimeWarning: divide by zero encountered in scalar divide\n",
      "  zstat = (value1 - value2 - diff) / std_diff\n"
     ]
    }
   ],
   "source": [
    "contagem_brazil = df[df[\"Pais\"] == \"Brazil\"].value_counts()\n",
    "\n",
    "stats, valor_p = ztest(x1 = contagem_brazil, value = 70, alternative = \"larger\")\n",
    "\n",
    "print(\"Teste Z de Brasil\")\n",
    "print(f\"Estatística Z: {stats}\")\n",
    "print(f\"Valor P: {valor_p}\")\n",
    "\n",
    "\n",
    "if valor_p < 0.05:\n",
    "    print(\"Rejeitamos a hipótese nula. O Brasil está entre os países que mais registram.\")\n",
    "else:\n",
    "    print(\"Não rejeitamos a hipótese nula. O Brasil não está entre os países que mais registram.\")"
   ]
  }
 ],
 "metadata": {
  "kernelspec": {
   "display_name": "Python 3",
   "language": "python",
   "name": "python3"
  },
  "language_info": {
   "codemirror_mode": {
    "name": "ipython",
    "version": 3
   },
   "file_extension": ".py",
   "mimetype": "text/x-python",
   "name": "python",
   "nbconvert_exporter": "python",
   "pygments_lexer": "ipython3",
   "version": "3.12.5"
  }
 },
 "nbformat": 4,
 "nbformat_minor": 2
}
